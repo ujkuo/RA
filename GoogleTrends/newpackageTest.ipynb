{
 "cells": [
  {
   "cell_type": "code",
   "execution_count": null,
   "id": "33c48450-b54b-43c1-b954-4418fde17be6",
   "metadata": {},
   "outputs": [],
   "source": [
    "!pip install gtab"
   ]
  },
  {
   "cell_type": "code",
   "execution_count": 1,
   "id": "7d2d011e-0ca9-4275-8f90-5942914982c2",
   "metadata": {},
   "outputs": [
    {
     "name": "stdout",
     "output_type": "stream",
     "text": [
      "Using directory '/usr/local/lib/python3.9/site-packages/gtab'\n",
      "Active anchorbank changed to: google_anchorbank_geo=_timeframe=2019-01-01 2020-08-01.tsv\n",
      "\n"
     ]
    }
   ],
   "source": [
    "import pandas as pd\n",
    "import numpy as np\n",
    "import gtab\n",
    "t = gtab.GTAB()"
   ]
  },
  {
   "cell_type": "code",
   "execution_count": 2,
   "id": "a65558c2-ca4c-4fad-abc9-717fb40c3162",
   "metadata": {},
   "outputs": [],
   "source": [
    "t.set_options(pytrends_config={\"geo\" : \"World\", \"timeframe\": \"2019-10-29 2019-10-30\"})"
   ]
  },
  {
   "cell_type": "code",
   "execution_count": 3,
   "id": "db1aecac-097d-49ec-af2c-0ff601fa5ebd",
   "metadata": {},
   "outputs": [],
   "source": [
    "mt1 = pd.read_csv('MeToo_20210302.csv')"
   ]
  },
  {
   "cell_type": "code",
   "execution_count": 4,
   "id": "d6c7f009-3f71-4c75-a6bc-b09974564832",
   "metadata": {},
   "outputs": [],
   "source": [
    "testList = mt1['name'][0:5]"
   ]
  },
  {
   "cell_type": "code",
   "execution_count": 5,
   "id": "aefbb808-eebc-4995-80a7-284f4802a5cd",
   "metadata": {},
   "outputs": [
    {
     "data": {
      "text/plain": [
       "0    Neil deGrasse Tyson\n",
       "1      Cristiano Ronaldo\n",
       "2          Earl K. Sneed\n",
       "3           Donald Trump\n",
       "4       George H.W. Bush\n",
       "Name: name, dtype: object"
      ]
     },
     "execution_count": 5,
     "metadata": {},
     "output_type": "execute_result"
    }
   ],
   "source": [
    "testList"
   ]
  },
  {
   "cell_type": "code",
   "execution_count": 6,
   "id": "b38570cc-f86e-414c-959e-7d5fe764fa0b",
   "metadata": {},
   "outputs": [],
   "source": [
    "all_data = [None] * 5"
   ]
  },
  {
   "cell_type": "code",
   "execution_count": 15,
   "id": "d762ec84-6728-4236-905e-d4a8d283ab1e",
   "metadata": {},
   "outputs": [],
   "source": [
    "from time import sleep"
   ]
  },
  {
   "cell_type": "code",
   "execution_count": 16,
   "id": "a285d468-b8d8-4fff-bcfb-c8ca15b2ce83",
   "metadata": {},
   "outputs": [],
   "source": [
    "def trending(all_data, nameList):\n",
    "    for i in range(len(testList)):\n",
    "        name = testList[i]\n",
    "        print(f'Start {name} trending')\n",
    "        #pytrends.build_payload(nameList['name'][2*i:2*i+2],timeframe=timeFrame)\n",
    "        #timeTrends = pytrends.interest_over_time()\n",
    "        all_data[i] = t.new_query(name)\n",
    "        sleepTime = np.random.uniform(5,10)\n",
    "        print(f'sleeping {sleepTime} seconds to prevent shutdown')\n",
    "        sleep(sleepTime)"
   ]
  },
  {
   "cell_type": "code",
   "execution_count": 19,
   "id": "2543b512-3907-4b2f-a6ca-ed829be679f5",
   "metadata": {},
   "outputs": [
    {
     "name": "stdout",
     "output_type": "stream",
     "text": [
      "Start Neil deGrasse Tyson trending\n",
      "Using /usr/local/lib/python3.9/site-packages/gtab/output/google_anchorbanks/google_anchorbank_geo=_timeframe=2019-01-01 2020-08-01.tsv\n",
      "New query 'Neil deGrasse Tyson'\n",
      "\n",
      "Bad keyword 'Neil deGrasse Tyson', because The request failed: Google returned a response with code 400.\n",
      "Keyword Neil deGrasse Tyson is bad!\n",
      "sleeping 7.905417638954633 seconds to prevent shutdown\n",
      "Start Cristiano Ronaldo trending\n",
      "Using /usr/local/lib/python3.9/site-packages/gtab/output/google_anchorbanks/google_anchorbank_geo=_timeframe=2019-01-01 2020-08-01.tsv\n",
      "New query 'Cristiano Ronaldo'\n",
      "\n",
      "Bad keyword 'Cristiano Ronaldo', because The request failed: Google returned a response with code 400.\n",
      "Keyword Cristiano Ronaldo is bad!\n",
      "sleeping 6.436463534200458 seconds to prevent shutdown\n",
      "Start Earl K. Sneed trending\n",
      "Using /usr/local/lib/python3.9/site-packages/gtab/output/google_anchorbanks/google_anchorbank_geo=_timeframe=2019-01-01 2020-08-01.tsv\n",
      "New query 'Earl K. Sneed'\n",
      "\n",
      "Bad keyword 'Earl K. Sneed', because The request failed: Google returned a response with code 400.\n",
      "Keyword Earl K. Sneed is bad!\n",
      "sleeping 8.292901835440738 seconds to prevent shutdown\n",
      "Start Donald Trump trending\n",
      "Using /usr/local/lib/python3.9/site-packages/gtab/output/google_anchorbanks/google_anchorbank_geo=_timeframe=2019-01-01 2020-08-01.tsv\n",
      "New query 'Donald Trump'\n",
      "\n",
      "Bad keyword 'Donald Trump', because The request failed: Google returned a response with code 400.\n",
      "Keyword Donald Trump is bad!\n",
      "sleeping 5.954869858692657 seconds to prevent shutdown\n",
      "Start George H.W. Bush trending\n",
      "Using /usr/local/lib/python3.9/site-packages/gtab/output/google_anchorbanks/google_anchorbank_geo=_timeframe=2019-01-01 2020-08-01.tsv\n",
      "New query 'George H.W. Bush'\n",
      "\n",
      "Bad keyword 'George H.W. Bush', because The request failed: Google returned a response with code 400.\n",
      "Keyword George H.W. Bush is bad!\n",
      "sleeping 5.692151856434299 seconds to prevent shutdown\n"
     ]
    }
   ],
   "source": [
    "trending(all_data, testList)"
   ]
  },
  {
   "cell_type": "code",
   "execution_count": 18,
   "id": "1fd88f32-6cb6-4f15-b3b6-026a6b5b317a",
   "metadata": {},
   "outputs": [
    {
     "data": {
      "text/plain": [
       "[-1, -1, -1, -1, -1]"
      ]
     },
     "execution_count": 18,
     "metadata": {},
     "output_type": "execute_result"
    }
   ],
   "source": [
    "all_data"
   ]
  },
  {
   "cell_type": "code",
   "execution_count": 20,
   "id": "43874049-7720-4016-8492-1cb526abf55b",
   "metadata": {},
   "outputs": [
    {
     "name": "stdout",
     "output_type": "stream",
     "text": [
      "Using /usr/local/lib/python3.9/site-packages/gtab/output/google_anchorbanks/google_anchorbank_geo=_timeframe=2019-01-01 2020-08-01.tsv\n",
      "New query 'facebook'\n",
      "\n",
      "Bad keyword 'facebook', because The request failed: Google returned a response with code 400.\n",
      "Keyword facebook is bad!\n",
      "Using /usr/local/lib/python3.9/site-packages/gtab/output/google_anchorbanks/google_anchorbank_geo=_timeframe=2019-01-01 2020-08-01.tsv\n",
      "New query 'swaziland'\n",
      "\n",
      "Bad keyword 'swaziland', because The request failed: Google returned a response with code 400.\n",
      "Keyword swaziland is bad!\n"
     ]
    }
   ],
   "source": [
    "#import gtab\n",
    "#t = gtab.GTAB()\n",
    "# Make the queries which will return precise values!\n",
    "query_facebook = t.new_query(\"facebook\")\n",
    "query_swaziland = t.new_query(\"swaziland\")"
   ]
  },
  {
   "cell_type": "code",
   "execution_count": 21,
   "id": "eb3adf53-8578-4f18-a012-4a674d09d148",
   "metadata": {},
   "outputs": [
    {
     "data": {
      "text/plain": [
       "-1"
      ]
     },
     "execution_count": 21,
     "metadata": {},
     "output_type": "execute_result"
    }
   ],
   "source": [
    "query_swaziland"
   ]
  },
  {
   "cell_type": "code",
   "execution_count": null,
   "id": "65181c23-933c-4c0f-a2e8-45aee824aea7",
   "metadata": {},
   "outputs": [],
   "source": []
  }
 ],
 "metadata": {
  "kernelspec": {
   "display_name": "Python 3",
   "language": "python",
   "name": "python3"
  },
  "language_info": {
   "codemirror_mode": {
    "name": "ipython",
    "version": 3
   },
   "file_extension": ".py",
   "mimetype": "text/x-python",
   "name": "python",
   "nbconvert_exporter": "python",
   "pygments_lexer": "ipython3",
   "version": "3.9.9"
  }
 },
 "nbformat": 4,
 "nbformat_minor": 5
}
