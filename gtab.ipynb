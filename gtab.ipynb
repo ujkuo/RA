{
 "cells": [
  {
   "cell_type": "code",
   "execution_count": 1,
   "id": "008fd638-c98f-40e5-a8be-1d17d57d240a",
   "metadata": {},
   "outputs": [],
   "source": [
    "import gtab\n",
    "import pandas as pd"
   ]
  },
  {
   "cell_type": "code",
   "execution_count": 2,
   "id": "7f102fa2-7a2d-44dc-b757-eaa1e1682b34",
   "metadata": {},
   "outputs": [],
   "source": [
    "name = pd.read_csv(\"GoogleTrends/MeToo_20210302.csv\")"
   ]
  },
  {
   "cell_type": "code",
   "execution_count": 5,
   "id": "b5858617-ba16-4e77-83bb-221cfeec0122",
   "metadata": {},
   "outputs": [
    {
     "name": "stdout",
     "output_type": "stream",
     "text": [
      "Using directory '/usr/local/lib/python3.9/site-packages/gtab'\n",
      "Active anchorbank changed to: google_anchorbank_geo=_timeframe=2019-01-01 2020-08-01.tsv\n",
      "\n"
     ]
    }
   ],
   "source": [
    "t = gtab.GTAB()\n",
    "#t.set_options(gtab_config={\"sleep\": 3})\n",
    "#t.create_anchorbank()"
   ]
  },
  {
   "cell_type": "code",
   "execution_count": 6,
   "id": "55de6bff-a1b5-446e-bfde-85357fabfa97",
   "metadata": {},
   "outputs": [
    {
     "name": "stdout",
     "output_type": "stream",
     "text": [
      "Active anchorbank changed to: google_anchorbank_geo=_timeframe=2017-10-01 2019-10-31.tsv\n",
      "\n"
     ]
    }
   ],
   "source": [
    "t.set_active_gtab(\"google_anchorbank_geo=_timeframe=2017-10-01 2019-10-31.tsv\")"
   ]
  },
  {
   "cell_type": "code",
   "execution_count": 11,
   "id": "5bd99d5f-828b-4d7f-adb1-e34e858ebd67",
   "metadata": {},
   "outputs": [],
   "source": [
    "def calibrate(nameList, result, outputFileName):\n",
    "    idx = 0\n",
    "    for name in nameList:\n",
    "        query = t.new_query(name)\n",
    "        #print(query)\n",
    "        if type(query) == int:\n",
    "            print(f'This name {name} is weird')\n",
    "        else:\n",
    "            query = query.rename(columns={\"max_ratio\": name}).drop(['max_ratio_hi', 'max_ratio_lo'], axis=1)\n",
    "            result.append(query)\n",
    "        #result[idx] = result[idx].rename(columns={\"max_ratio\": name})\n",
    "        #result[ = tmp.drop(['max_ratio_hi', 'max_ratio_lo'], axis=1)\n",
    "    tmp = result[0]\n",
    "    for i in range(len(result)):\n",
    "        if i != 0:\n",
    "            tmp = pd.concat([tmp, result[i]], axis=1)\n",
    "    tmp.to_csv(outputFileName)\n",
    "    return tmp"
   ]
  },
  {
   "cell_type": "code",
   "execution_count": 8,
   "id": "d537f993-7c11-4965-adf0-499904c2e9c9",
   "metadata": {},
   "outputs": [],
   "source": [
    "import pandas as pd\n",
    "nameList = pd.read_csv('GoogleTrends/MeToo_20210302.csv')\n",
    "result = []\n",
    "#output1 = calibrate(nameList, result, '20210302Trend.csv')"
   ]
  },
  {
   "cell_type": "code",
   "execution_count": 26,
   "id": "88192aa6-9a4b-4bfc-a557-42835893dd48",
   "metadata": {},
   "outputs": [
    {
     "name": "stdout",
     "output_type": "stream",
     "text": [
      "19\n"
     ]
    }
   ],
   "source": [
    "print(len(nameList)//17)"
   ]
  },
  {
   "cell_type": "code",
   "execution_count": 43,
   "id": "5487c7f1-46e1-409d-ba58-6cdb71c1eece",
   "metadata": {},
   "outputs": [
    {
     "name": "stdout",
     "output_type": "stream",
     "text": [
      "5\n",
      "6\n",
      "7\n"
     ]
    }
   ],
   "source": [
    "for i in range(5,8):\n",
    "    print(i)"
   ]
  },
  {
   "cell_type": "code",
   "execution_count": 12,
   "id": "f9f048da-beac-42bf-867f-dd4dc053292d",
   "metadata": {},
   "outputs": [
    {
     "name": "stdout",
     "output_type": "stream",
     "text": [
      "13\n",
      "Using /usr/local/lib/python3.9/site-packages/gtab/output/google_anchorbanks/google_anchorbank_geo=_timeframe=2017-10-01 2019-10-31.tsv\n",
      "New query 'Sherman Alexie'\n",
      "New query calibrated!\n",
      "Using /usr/local/lib/python3.9/site-packages/gtab/output/google_anchorbanks/google_anchorbank_geo=_timeframe=2017-10-01 2019-10-31.tsv\n",
      "New query 'Angel Arce'\n",
      "New query calibrated!\n",
      "Using /usr/local/lib/python3.9/site-packages/gtab/output/google_anchorbanks/google_anchorbank_geo=_timeframe=2017-10-01 2019-10-31.tsv\n",
      "New query 'Richard Meier'\n",
      "New query calibrated!\n",
      "Using /usr/local/lib/python3.9/site-packages/gtab/output/google_anchorbanks/google_anchorbank_geo=_timeframe=2017-10-01 2019-10-31.tsv\n",
      "New query 'Michael Ferro'\n",
      "New query calibrated!\n",
      "Using /usr/local/lib/python3.9/site-packages/gtab/output/google_anchorbanks/google_anchorbank_geo=_timeframe=2017-10-01 2019-10-31.tsv\n",
      "New query 'Michael W. Ferro Jr.'\n",
      "Keyword Michael W. Ferro Jr. is bad!\n",
      "This name Michael W. Ferro Jr. is weird\n",
      "Using /usr/local/lib/python3.9/site-packages/gtab/output/google_anchorbanks/google_anchorbank_geo=_timeframe=2017-10-01 2019-10-31.tsv\n",
      "New query 'Mike Isabella'\n",
      "New query calibrated!\n",
      "Using /usr/local/lib/python3.9/site-packages/gtab/output/google_anchorbanks/google_anchorbank_geo=_timeframe=2017-10-01 2019-10-31.tsv\n",
      "New query 'Robert Reece'\n",
      "New query calibrated!\n",
      "Using /usr/local/lib/python3.9/site-packages/gtab/output/google_anchorbanks/google_anchorbank_geo=_timeframe=2017-10-01 2019-10-31.tsv\n",
      "New query 'Bill Hybels'\n",
      "New query calibrated!\n",
      "Using /usr/local/lib/python3.9/site-packages/gtab/output/google_anchorbanks/google_anchorbank_geo=_timeframe=2017-10-01 2019-10-31.tsv\n",
      "New query 'Nicholas Nixon'\n",
      "New query calibrated!\n",
      "Using /usr/local/lib/python3.9/site-packages/gtab/output/google_anchorbanks/google_anchorbank_geo=_timeframe=2017-10-01 2019-10-31.tsv\n",
      "New query 'William D. Strampel'\n",
      "New query calibrated!\n",
      "Using /usr/local/lib/python3.9/site-packages/gtab/output/google_anchorbanks/google_anchorbank_geo=_timeframe=2017-10-01 2019-10-31.tsv\n",
      "New query 'Keith Raniere'\n",
      "New query calibrated!\n",
      "Using /usr/local/lib/python3.9/site-packages/gtab/output/google_anchorbanks/google_anchorbank_geo=_timeframe=2017-10-01 2019-10-31.tsv\n",
      "New query 'John Kricfalusi'\n",
      "New query calibrated!\n",
      "Using /usr/local/lib/python3.9/site-packages/gtab/output/google_anchorbanks/google_anchorbank_geo=_timeframe=2017-10-01 2019-10-31.tsv\n",
      "New query 'Benjamin Sparks'\n",
      "New query calibrated!\n",
      "Using /usr/local/lib/python3.9/site-packages/gtab/output/google_anchorbanks/google_anchorbank_geo=_timeframe=2017-10-01 2019-10-31.tsv\n",
      "New query 'Benton Strong'\n",
      "New query calibrated!\n",
      "Using /usr/local/lib/python3.9/site-packages/gtab/output/google_anchorbanks/google_anchorbank_geo=_timeframe=2017-10-01 2019-10-31.tsv\n",
      "New query 'Glenn Thrush'\n",
      "New query calibrated!\n",
      "Using /usr/local/lib/python3.9/site-packages/gtab/output/google_anchorbanks/google_anchorbank_geo=_timeframe=2017-10-01 2019-10-31.tsv\n",
      "New query 'Justin Parish'\n",
      "New query calibrated!\n",
      "Using /usr/local/lib/python3.9/site-packages/gtab/output/google_anchorbanks/google_anchorbank_geo=_timeframe=2017-10-01 2019-10-31.tsv\n",
      "New query 'Charlie Rose'\n",
      "New query calibrated!\n",
      "Using /usr/local/lib/python3.9/site-packages/gtab/output/google_anchorbanks/google_anchorbank_geo=_timeframe=2017-10-01 2019-10-31.tsv\n",
      "New query 'Al Franken'\n",
      "New query calibrated!\n",
      "Using /usr/local/lib/python3.9/site-packages/gtab/output/google_anchorbanks/google_anchorbank_geo=_timeframe=2017-10-01 2019-10-31.tsv\n",
      "New query 'Clay Johnson'\n",
      "New query calibrated!\n",
      "Using /usr/local/lib/python3.9/site-packages/gtab/output/google_anchorbanks/google_anchorbank_geo=_timeframe=2017-10-01 2019-10-31.tsv\n",
      "New query 'Junot Díaz'\n",
      "New query calibrated!\n",
      "sleep 60s from request limits\n",
      "14\n",
      "Using /usr/local/lib/python3.9/site-packages/gtab/output/google_anchorbanks/google_anchorbank_geo=_timeframe=2017-10-01 2019-10-31.tsv\n",
      "New query 'Nick Miccarelli'\n",
      "New query calibrated!\n",
      "Using /usr/local/lib/python3.9/site-packages/gtab/output/google_anchorbanks/google_anchorbank_geo=_timeframe=2017-10-01 2019-10-31.tsv\n",
      "New query 'Eric Schneiderman'\n",
      "New query calibrated!\n",
      "Using /usr/local/lib/python3.9/site-packages/gtab/output/google_anchorbanks/google_anchorbank_geo=_timeframe=2017-10-01 2019-10-31.tsv\n",
      "New query 'Roy Frumkes'\n",
      "New query calibrated!\n",
      "Using /usr/local/lib/python3.9/site-packages/gtab/output/google_anchorbanks/google_anchorbank_geo=_timeframe=2017-10-01 2019-10-31.tsv\n",
      "New query 'Ameer Vann'\n",
      "New query calibrated!\n",
      "Using /usr/local/lib/python3.9/site-packages/gtab/output/google_anchorbanks/google_anchorbank_geo=_timeframe=2017-10-01 2019-10-31.tsv\n",
      "New query 'Howard Kwait'\n",
      "New query calibrated!\n",
      "Using /usr/local/lib/python3.9/site-packages/gtab/output/google_anchorbanks/google_anchorbank_geo=_timeframe=2017-10-01 2019-10-31.tsv\n",
      "New query 'George Tyndall'\n",
      "New query calibrated!\n",
      "Using /usr/local/lib/python3.9/site-packages/gtab/output/google_anchorbanks/google_anchorbank_geo=_timeframe=2017-10-01 2019-10-31.tsv\n",
      "New query 'Paul Rosenthal'\n",
      "New query calibrated!\n",
      "Using /usr/local/lib/python3.9/site-packages/gtab/output/google_anchorbanks/google_anchorbank_geo=_timeframe=2017-10-01 2019-10-31.tsv\n",
      "New query 'Steve Lebsock'\n",
      "New query calibrated!\n",
      "Using /usr/local/lib/python3.9/site-packages/gtab/output/google_anchorbanks/google_anchorbank_geo=_timeframe=2017-10-01 2019-10-31.tsv\n",
      "New query 'Mohamed Muqtar'\n",
      "New query calibrated!\n",
      "Using /usr/local/lib/python3.9/site-packages/gtab/output/google_anchorbanks/google_anchorbank_geo=_timeframe=2017-10-01 2019-10-31.tsv\n",
      "New query 'Robert Haufrecht'\n",
      "New query calibrated!\n",
      "Using /usr/local/lib/python3.9/site-packages/gtab/output/google_anchorbanks/google_anchorbank_geo=_timeframe=2017-10-01 2019-10-31.tsv\n",
      "New query 'Brian Linder'\n",
      "New query calibrated!\n",
      "Using /usr/local/lib/python3.9/site-packages/gtab/output/google_anchorbanks/google_anchorbank_geo=_timeframe=2017-10-01 2019-10-31.tsv\n",
      "New query 'Roland G. Fryer, Jr.'\n",
      "New query calibrated!\n",
      "Using /usr/local/lib/python3.9/site-packages/gtab/output/google_anchorbanks/google_anchorbank_geo=_timeframe=2017-10-01 2019-10-31.tsv\n",
      "New query 'Nate Boulton'\n",
      "New query calibrated!\n",
      "Using /usr/local/lib/python3.9/site-packages/gtab/output/google_anchorbanks/google_anchorbank_geo=_timeframe=2017-10-01 2019-10-31.tsv\n",
      "New query 'Andrew Kreisberg'\n",
      "New query calibrated!\n",
      "Using /usr/local/lib/python3.9/site-packages/gtab/output/google_anchorbanks/google_anchorbank_geo=_timeframe=2017-10-01 2019-10-31.tsv\n",
      "New query 'Lou Lang'\n",
      "New query calibrated!\n",
      "Using /usr/local/lib/python3.9/site-packages/gtab/output/google_anchorbanks/google_anchorbank_geo=_timeframe=2017-10-01 2019-10-31.tsv\n",
      "New query 'Ed Westwick'\n",
      "New query calibrated!\n",
      "Using /usr/local/lib/python3.9/site-packages/gtab/output/google_anchorbanks/google_anchorbank_geo=_timeframe=2017-10-01 2019-10-31.tsv\n",
      "New query 'Curt Anderson'\n",
      "New query calibrated!\n",
      "Using /usr/local/lib/python3.9/site-packages/gtab/output/google_anchorbanks/google_anchorbank_geo=_timeframe=2017-10-01 2019-10-31.tsv\n",
      "New query 'Mark Mellor'\n",
      "New query calibrated!\n",
      "Using /usr/local/lib/python3.9/site-packages/gtab/output/google_anchorbanks/google_anchorbank_geo=_timeframe=2017-10-01 2019-10-31.tsv\n",
      "New query 'Francisco J. Ayala'\n",
      "New query calibrated!\n",
      "Using /usr/local/lib/python3.9/site-packages/gtab/output/google_anchorbanks/google_anchorbank_geo=_timeframe=2017-10-01 2019-10-31.tsv\n",
      "New query 'Curtis Hill'\n",
      "New query calibrated!\n",
      "sleep 60s from request limits\n",
      "15\n",
      "Using /usr/local/lib/python3.9/site-packages/gtab/output/google_anchorbanks/google_anchorbank_geo=_timeframe=2017-10-01 2019-10-31.tsv\n",
      "New query 'Demos Parneros'\n",
      "New query calibrated!\n",
      "Using /usr/local/lib/python3.9/site-packages/gtab/output/google_anchorbanks/google_anchorbank_geo=_timeframe=2017-10-01 2019-10-31.tsv\n",
      "New query 'Antonin Kratochvil'\n",
      "New query calibrated!\n",
      "Using /usr/local/lib/python3.9/site-packages/gtab/output/google_anchorbanks/google_anchorbank_geo=_timeframe=2017-10-01 2019-10-31.tsv\n",
      "New query 'Sam Adams'\n",
      "New query calibrated!\n",
      "Using /usr/local/lib/python3.9/site-packages/gtab/output/google_anchorbanks/google_anchorbank_geo=_timeframe=2017-10-01 2019-10-31.tsv\n",
      "New query 'Rick Day'\n",
      "New query calibrated!\n",
      "Using /usr/local/lib/python3.9/site-packages/gtab/output/google_anchorbanks/google_anchorbank_geo=_timeframe=2017-10-01 2019-10-31.tsv\n",
      "New query 'Bernard Uzan'\n",
      "New query calibrated!\n",
      "Using /usr/local/lib/python3.9/site-packages/gtab/output/google_anchorbanks/google_anchorbank_geo=_timeframe=2017-10-01 2019-10-31.tsv\n",
      "New query 'William Preucil'\n",
      "New query calibrated!\n",
      "Using /usr/local/lib/python3.9/site-packages/gtab/output/google_anchorbanks/google_anchorbank_geo=_timeframe=2017-10-01 2019-10-31.tsv\n",
      "New query 'Michael Oreskes'\n",
      "New query calibrated!\n",
      "Using /usr/local/lib/python3.9/site-packages/gtab/output/google_anchorbanks/google_anchorbank_geo=_timeframe=2017-10-01 2019-10-31.tsv\n",
      "New query 'Mel Watt'\n",
      "New query calibrated!\n",
      "Using /usr/local/lib/python3.9/site-packages/gtab/output/google_anchorbanks/google_anchorbank_geo=_timeframe=2017-10-01 2019-10-31.tsv\n",
      "New query 'Andy Dick'\n",
      "New query calibrated!\n",
      "Using /usr/local/lib/python3.9/site-packages/gtab/output/google_anchorbanks/google_anchorbank_geo=_timeframe=2017-10-01 2019-10-31.tsv\n",
      "New query 'Nick Sauer'\n",
      "New query calibrated!\n",
      "Using /usr/local/lib/python3.9/site-packages/gtab/output/google_anchorbanks/google_anchorbank_geo=_timeframe=2017-10-01 2019-10-31.tsv\n",
      "New query 'Kevin Spacey'\n",
      "New query calibrated!\n",
      "Using /usr/local/lib/python3.9/site-packages/gtab/output/google_anchorbanks/google_anchorbank_geo=_timeframe=2017-10-01 2019-10-31.tsv\n",
      "New query 'Les Moonves'\n",
      "New query calibrated!\n",
      "Using /usr/local/lib/python3.9/site-packages/gtab/output/google_anchorbanks/google_anchorbank_geo=_timeframe=2017-10-01 2019-10-31.tsv\n",
      "New query 'Avital Ronell'\n",
      "New query calibrated!\n",
      "Using /usr/local/lib/python3.9/site-packages/gtab/output/google_anchorbanks/google_anchorbank_geo=_timeframe=2017-10-01 2019-10-31.tsv\n",
      "New query 'Asia Argento'\n",
      "New query calibrated!\n",
      "Using /usr/local/lib/python3.9/site-packages/gtab/output/google_anchorbanks/google_anchorbank_geo=_timeframe=2017-10-01 2019-10-31.tsv\n",
      "New query 'Mark Halperin'\n",
      "New query calibrated!\n",
      "Using /usr/local/lib/python3.9/site-packages/gtab/output/google_anchorbanks/google_anchorbank_geo=_timeframe=2017-10-01 2019-10-31.tsv\n",
      "New query 'Ron Carlson'\n",
      "New query calibrated!\n",
      "Using /usr/local/lib/python3.9/site-packages/gtab/output/google_anchorbanks/google_anchorbank_geo=_timeframe=2017-10-01 2019-10-31.tsv\n",
      "New query 'Gerard Depardieu'\n",
      "New query calibrated!\n",
      "Using /usr/local/lib/python3.9/site-packages/gtab/output/google_anchorbanks/google_anchorbank_geo=_timeframe=2017-10-01 2019-10-31.tsv\n",
      "New query 'Chase Finlay'\n",
      "New query calibrated!\n",
      "Using /usr/local/lib/python3.9/site-packages/gtab/output/google_anchorbanks/google_anchorbank_geo=_timeframe=2017-10-01 2019-10-31.tsv\n",
      "New query 'Steven Wilder Striegel'\n",
      "New query calibrated!\n",
      "Using /usr/local/lib/python3.9/site-packages/gtab/output/google_anchorbanks/google_anchorbank_geo=_timeframe=2017-10-01 2019-10-31.tsv\n",
      "New query 'Leslie Moonves'\n",
      "New query calibrated!\n",
      "sleep 60s from request limits\n",
      "16\n",
      "Using /usr/local/lib/python3.9/site-packages/gtab/output/google_anchorbanks/google_anchorbank_geo=_timeframe=2017-10-01 2019-10-31.tsv\n",
      "New query 'John Besh'\n",
      "New query calibrated!\n",
      "Using /usr/local/lib/python3.9/site-packages/gtab/output/google_anchorbanks/google_anchorbank_geo=_timeframe=2017-10-01 2019-10-31.tsv\n",
      "New query 'Brett Kavanaugh'\n",
      "New query calibrated!\n",
      "Using /usr/local/lib/python3.9/site-packages/gtab/output/google_anchorbanks/google_anchorbank_geo=_timeframe=2017-10-01 2019-10-31.tsv\n",
      "New query 'Amar Ramasar'\n",
      "New query calibrated!\n",
      "Using /usr/local/lib/python3.9/site-packages/gtab/output/google_anchorbanks/google_anchorbank_geo=_timeframe=2017-10-01 2019-10-31.tsv\n",
      "New query 'Zachary Catazaro'\n",
      "New query calibrated!\n",
      "Using /usr/local/lib/python3.9/site-packages/gtab/output/google_anchorbanks/google_anchorbank_geo=_timeframe=2017-10-01 2019-10-31.tsv\n",
      "New query 'Cody Wilson'\n",
      "New query calibrated!\n",
      "Using /usr/local/lib/python3.9/site-packages/gtab/output/google_anchorbanks/google_anchorbank_geo=_timeframe=2017-10-01 2019-10-31.tsv\n",
      "New query 'Adam Berkowitz'\n",
      "New query calibrated!\n",
      "Using /usr/local/lib/python3.9/site-packages/gtab/output/google_anchorbanks/google_anchorbank_geo=_timeframe=2017-10-01 2019-10-31.tsv\n",
      "New query 'Charles Schwertner'\n",
      "New query calibrated!\n",
      "Using /usr/local/lib/python3.9/site-packages/gtab/output/google_anchorbanks/google_anchorbank_geo=_timeframe=2017-10-01 2019-10-31.tsv\n",
      "New query 'Albert J. Alvarez'\n",
      "New query calibrated!\n",
      "Using /usr/local/lib/python3.9/site-packages/gtab/output/google_anchorbanks/google_anchorbank_geo=_timeframe=2017-10-01 2019-10-31.tsv\n",
      "New query 'Amit Singhal'\n",
      "New query calibrated!\n",
      "Using /usr/local/lib/python3.9/site-packages/gtab/output/google_anchorbanks/google_anchorbank_geo=_timeframe=2017-10-01 2019-10-31.tsv\n",
      "New query 'Robert Scoble'\n",
      "New query calibrated!\n",
      "Using /usr/local/lib/python3.9/site-packages/gtab/output/google_anchorbanks/google_anchorbank_geo=_timeframe=2017-10-01 2019-10-31.tsv\n",
      "New query 'Richard DeVaul'\n",
      "New query calibrated!\n",
      "Using /usr/local/lib/python3.9/site-packages/gtab/output/google_anchorbanks/google_anchorbank_geo=_timeframe=2017-10-01 2019-10-31.tsv\n",
      "New query 'Roy Price'\n",
      "New query calibrated!\n",
      "Using /usr/local/lib/python3.9/site-packages/gtab/output/google_anchorbanks/google_anchorbank_geo=_timeframe=2017-10-01 2019-10-31.tsv\n",
      "New query 'Lockhart Steele'\n",
      "New query calibrated!\n",
      "Using /usr/local/lib/python3.9/site-packages/gtab/output/google_anchorbanks/google_anchorbank_geo=_timeframe=2017-10-01 2019-10-31.tsv\n",
      "New query 'Harvey Weinstein'\n",
      "New query calibrated!\n",
      "sleep 60s from request limits\n"
     ]
    }
   ],
   "source": [
    "output = []\n",
    "for i in range(13,17):\n",
    "    file = 'clean'+str(i+1)+'.csv'\n",
    "    print(i)\n",
    "    chunk = len(nameList)//17 + 1\n",
    "    if i != 16:\n",
    "        output.append(calibrate(nameList['name'][i*chunk:(i+1)*chunk], result, file))\n",
    "    else:\n",
    "        output.append(calibrate(nameList['name'][i*chunk:], result, file))\n",
    "    print('sleep 60s from request limits')\n",
    "    time.sleep(60)"
   ]
  },
  {
   "cell_type": "code",
   "execution_count": 63,
   "id": "d8512d62-e513-48e0-9e18-6b2aac6ddd57",
   "metadata": {},
   "outputs": [
    {
     "name": "stdout",
     "output_type": "stream",
     "text": [
      "Using /usr/local/lib/python3.9/site-packages/gtab/output/google_anchorbanks/google_anchorbank_geo=_timeframe=2017-10-01 2019-10-31.tsv\n",
      "New query 'Joseph M. Souki'\n",
      "Keyword Joseph M. Souki is bad!\n"
     ]
    }
   ],
   "source": [
    "q = t.new_query('Joseph M. Souki')"
   ]
  },
  {
   "cell_type": "code",
   "execution_count": 68,
   "id": "7231b126-ac07-4137-afc9-98b0af21c538",
   "metadata": {},
   "outputs": [
    {
     "name": "stdout",
     "output_type": "stream",
     "text": [
      "Using /usr/local/lib/python3.9/site-packages/gtab/output/google_anchorbanks/google_anchorbank_geo=_timeframe=2017-10-01 2019-10-31.tsv\n",
      "New query 'elon musk'\n",
      "New query calibrated!\n"
     ]
    }
   ],
   "source": [
    "q = t.new_query('elon musk')"
   ]
  },
  {
   "cell_type": "code",
   "execution_count": 65,
   "id": "44e3fd6e-8e44-4a43-b4b1-a4b2d179d7f2",
   "metadata": {},
   "outputs": [
    {
     "name": "stdout",
     "output_type": "stream",
     "text": [
      "3\n"
     ]
    }
   ],
   "source": [
    "if type(q) == int:\n",
    "    print(3)"
   ]
  },
  {
   "cell_type": "code",
   "execution_count": 69,
   "id": "b89f39ff-681a-4d02-8b18-7c9d74971f24",
   "metadata": {},
   "outputs": [
    {
     "data": {
      "text/plain": [
       "pandas.core.frame.DataFrame"
      ]
     },
     "execution_count": 69,
     "metadata": {},
     "output_type": "execute_result"
    }
   ],
   "source": [
    "type(q)"
   ]
  },
  {
   "cell_type": "code",
   "execution_count": 10,
   "id": "571089c3-5266-400e-94b9-4e07708844b5",
   "metadata": {},
   "outputs": [],
   "source": [
    "import time"
   ]
  },
  {
   "cell_type": "code",
   "execution_count": null,
   "id": "8e89429d-6813-4c80-91a3-f41ad477d812",
   "metadata": {},
   "outputs": [],
   "source": []
  }
 ],
 "metadata": {
  "kernelspec": {
   "display_name": "Python 3",
   "language": "python",
   "name": "python3"
  },
  "language_info": {
   "codemirror_mode": {
    "name": "ipython",
    "version": 3
   },
   "file_extension": ".py",
   "mimetype": "text/x-python",
   "name": "python",
   "nbconvert_exporter": "python",
   "pygments_lexer": "ipython3",
   "version": "3.9.9"
  }
 },
 "nbformat": 4,
 "nbformat_minor": 5
}
